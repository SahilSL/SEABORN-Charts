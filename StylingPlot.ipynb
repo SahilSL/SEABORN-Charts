{
 "cells": [
  {
   "cell_type": "code",
   "execution_count": null,
   "id": "8790933e-f43b-42d4-8dc8-d83fba9eb1fd",
   "metadata": {},
   "outputs": [],
   "source": [
    "sns.set_style(\"\")\n",
    "plt.figure(figsize=(3,12))\n",
    "palette=\"\"\n"
   ]
  }
 ],
 "metadata": {
  "kernelspec": {
   "display_name": "Python 3 (ipykernel)",
   "language": "python",
   "name": "python3"
  },
  "language_info": {
   "codemirror_mode": {
    "name": "ipython",
    "version": 3
   },
   "file_extension": ".py",
   "mimetype": "text/x-python",
   "name": "python",
   "nbconvert_exporter": "python",
   "pygments_lexer": "ipython3",
   "version": "3.12.4"
  }
 },
 "nbformat": 4,
 "nbformat_minor": 5
}
